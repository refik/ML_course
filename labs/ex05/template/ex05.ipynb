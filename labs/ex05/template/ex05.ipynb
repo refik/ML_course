{
 "cells": [
  {
   "cell_type": "code",
   "execution_count": 1,
   "metadata": {},
   "outputs": [],
   "source": [
    "# Useful starting lines\n",
    "%matplotlib inline\n",
    "import numpy as np\n",
    "import matplotlib.pyplot as plt\n",
    "%load_ext autoreload\n",
    "%autoreload 2"
   ]
  },
  {
   "cell_type": "markdown",
   "metadata": {},
   "source": [
    "# Logistic Regression\n",
    "## Classification Using Linear Regression\n",
    "Load your data."
   ]
  },
  {
   "cell_type": "code",
   "execution_count": 2,
   "metadata": {},
   "outputs": [],
   "source": [
    "from helpers import sample_data, load_data, standardize\n",
    "\n",
    "# load data.\n",
    "height, weight, gender = load_data()\n",
    "\n",
    "# build sampled x and y.\n",
    "seed = 1\n",
    "y = np.expand_dims(gender, axis=1)\n",
    "X = np.c_[height.reshape(-1), weight.reshape(-1)]\n",
    "y, X = sample_data(y, X, seed, size_samples=200)\n",
    "x, mean_x, std_x = standardize(X)\n",
    "\n",
    "tx = np.c_[np.ones((y.shape[0], 1)), x]"
   ]
  },
  {
   "cell_type": "markdown",
   "metadata": {},
   "source": [
    "Use `least_squares` to compute w, and visualize the results."
   ]
  },
  {
   "cell_type": "code",
   "execution_count": null,
   "metadata": {},
   "outputs": [],
   "source": [
    "from refik_lib.least_squares import least_squares\n",
    "from plots import visualization\n",
    "\n",
    "def least_square_classification_demo(y, x):\n",
    "    tx = np.c_[np.ones((y.shape[0], 1)), x]\n",
    "    w = least_squares(y, tx)\n",
    "\n",
    "    visualization(y, x, mean_x, std_x, w, \"classification_by_least_square\")\n",
    "    \n",
    "least_square_classification_demo(y, x)"
   ]
  },
  {
   "cell_type": "markdown",
   "metadata": {},
   "source": [
    "## Logistic Regression"
   ]
  },
  {
   "cell_type": "markdown",
   "metadata": {},
   "source": [
    "Compute your cost by negative log likelihood."
   ]
  },
  {
   "cell_type": "code",
   "execution_count": 4,
   "metadata": {},
   "outputs": [],
   "source": [
    "def sigmoid(t):\n",
    "    \"\"\"apply sigmoid function on t.\"\"\"\n",
    "    return 1 / (1 + np.exp(-t))"
   ]
  },
  {
   "cell_type": "code",
   "execution_count": 29,
   "metadata": {},
   "outputs": [],
   "source": [
    "def calculate_loss(y, tx, w, penalized=False):\n",
    "    \"\"\"compute the cost by negative log likelihood.\"\"\"\n",
    "    sig = sigmoid(tx @ w)\n",
    "    t1 = y * np.log(sig)\n",
    "    t2 = (1 - y) * np.log(1 - sig)\n",
    "    return -np.squeeze(np.sum(t1 + t2, axis=0))"
   ]
  },
  {
   "cell_type": "code",
   "execution_count": 6,
   "metadata": {},
   "outputs": [],
   "source": [
    "def calculate_gradient(y, tx, w):\n",
    "    \"\"\"compute the gradient of loss.\"\"\"\n",
    "    return tx.T @ (sigmoid(tx @ w) - y)"
   ]
  },
  {
   "cell_type": "markdown",
   "metadata": {},
   "source": [
    "### Using Gradient Descent\n",
    "Implement your function to calculate the gradient for logistic regression."
   ]
  },
  {
   "cell_type": "code",
   "execution_count": 7,
   "metadata": {},
   "outputs": [],
   "source": [
    "def learning_by_gradient_descent(y, tx, w, gamma):\n",
    "    \"\"\"\n",
    "    Do one step of gradient descent using logistic regression.\n",
    "    Return the loss and the updated w.\n",
    "    \"\"\"\n",
    "    loss = calculate_loss(y, tx, w)\n",
    "    gradient = calculate_gradient(y, tx, w)\n",
    "    w = w - gamma * gradient\n",
    "    return loss, w"
   ]
  },
  {
   "cell_type": "markdown",
   "metadata": {},
   "source": [
    "Demo!"
   ]
  },
  {
   "cell_type": "code",
   "execution_count": null,
   "metadata": {},
   "outputs": [],
   "source": [
    "from helpers import de_standardize\n",
    "\n",
    "def logistic_regression_gradient_descent_demo(y, x):\n",
    "    # init parameters\n",
    "    max_iter = 10000\n",
    "    threshold = 1e-8\n",
    "    gamma = 0.01\n",
    "    losses = []\n",
    "\n",
    "    # build tx\n",
    "    tx = np.c_[np.ones((y.shape[0], 1)), x]\n",
    "    w = np.zeros((tx.shape[1], 1))\n",
    "\n",
    "    # start the logistic regression\n",
    "    for iter in range(max_iter):\n",
    "        # get loss and update w.\n",
    "        loss, w = learning_by_gradient_descent(y, tx, w, gamma)\n",
    "        # log info\n",
    "        if iter % 100 == 0:\n",
    "            print(\"Current iteration={i}, loss={l}\".format(i=iter, l=loss))\n",
    "        # converge criterion\n",
    "        losses.append(loss)\n",
    "        if len(losses) > 1 and np.abs(losses[-1] - losses[-2]) < threshold:\n",
    "            break\n",
    "    # visualization\n",
    "    visualization(y, x, mean_x, std_x, w, \"classification_by_logistic_regression_gradient_descent\", True)\n",
    "    print(\"loss={l}\".format(l=calculate_loss(y, tx, w)))\n",
    "\n",
    "logistic_regression_gradient_descent_demo(y, x)"
   ]
  },
  {
   "cell_type": "markdown",
   "metadata": {},
   "source": [
    "Calculate your hessian below"
   ]
  },
  {
   "cell_type": "code",
   "execution_count": 9,
   "metadata": {},
   "outputs": [
    {
     "data": {
      "text/plain": [
       "array([[0.1854111 , 0.64999069, 0.68494989],\n",
       "       [0.64999069, 2.51251649, 2.33612187],\n",
       "       [0.68494989, 2.33612187, 2.69843265]])"
      ]
     },
     "execution_count": 9,
     "metadata": {},
     "output_type": "execute_result"
    }
   ],
   "source": [
    "def calculate_hessian(y, tx, w):\n",
    "    \"\"\"return the hessian of the loss function.\"\"\"\n",
    "    sig = sigmoid(tx @ w).flatten()\n",
    "    S = np.diag(sig * (1 - sig))\n",
    "    return tx.T @ S @ tx \n",
    "\n",
    "calculate_hessian(np.array([1,2,3]).reshape(3,-1), np.array([[1,3,5], [1,6,3], [1,3,3]]), np.array([0.4, 0.4,0.2]).reshape(3, -1))"
   ]
  },
  {
   "cell_type": "markdown",
   "metadata": {},
   "source": [
    "Write a function below to return loss, gradient, and hessian."
   ]
  },
  {
   "cell_type": "code",
   "execution_count": 10,
   "metadata": {},
   "outputs": [],
   "source": [
    "def logistic_regression(y, tx, w):\n",
    "    \"\"\"return the loss, gradient, and hessian.\"\"\"\n",
    "    loss = calculate_loss(y, tx, w)\n",
    "    gradient = calculate_gradient(y, tx, w)\n",
    "    hessian = calculate_hessian(y, tx, w)\n",
    "    \n",
    "    return loss, gradient, hessian"
   ]
  },
  {
   "cell_type": "markdown",
   "metadata": {},
   "source": [
    "### Using Newton's method\n",
    "Use Newton's method for logistic regression."
   ]
  },
  {
   "cell_type": "code",
   "execution_count": 18,
   "metadata": {},
   "outputs": [],
   "source": [
    "def learning_by_newton_method(y, tx, w, lambda_):\n",
    "    \"\"\"\n",
    "    Do one step on Newton's method.\n",
    "    return the loss and updated w.\n",
    "    \"\"\"\n",
    "    loss, gradient, hessian = logistic_regression(y, tx, w)\n",
    "    w -= lambda_ * np.linalg.solve(hessian, gradient)\n",
    "    return loss, w"
   ]
  },
  {
   "cell_type": "markdown",
   "metadata": {},
   "source": [
    "demo"
   ]
  },
  {
   "cell_type": "code",
   "execution_count": 32,
   "metadata": {
    "scrolled": true
   },
   "outputs": [
    {
     "name": "stdout",
     "output_type": "stream",
     "text": [
      "Current iteration=0, the loss=138.62943611198904\n",
      "Current iteration=1, the loss=126.31098316846278\n",
      "Current iteration=2, the loss=116.17884131836638\n",
      "Current iteration=3, the loss=107.63603770167282\n",
      "Current iteration=4, the loss=100.30205497477121\n",
      "Current iteration=5, the loss=93.92045949357014\n",
      "Current iteration=6, the loss=88.3106265888207\n",
      "Current iteration=7, the loss=83.3406199799586\n",
      "Current iteration=8, the loss=78.91107491445945\n",
      "Current iteration=9, the loss=74.94517505459513\n",
      "Current iteration=10, the loss=71.38217682387335\n",
      "Current iteration=11, the loss=68.1730853775094\n",
      "Current iteration=12, the loss=65.27768184568599\n",
      "Current iteration=13, the loss=62.66242563531865\n",
      "Current iteration=14, the loss=60.29893947109508\n",
      "Current iteration=15, the loss=58.162892820633104\n",
      "Current iteration=16, the loss=56.233164565608035\n",
      "Current iteration=17, the loss=54.4912061318458\n",
      "Current iteration=18, the loss=52.92055177744632\n",
      "Current iteration=19, the loss=51.506439134014315\n",
      "Current iteration=20, the loss=50.23551382902585\n",
      "Current iteration=21, the loss=49.09559916779719\n",
      "Current iteration=22, the loss=48.07551670803711\n",
      "Current iteration=23, the loss=47.164946925455695\n",
      "Current iteration=24, the loss=46.35432155661215\n",
      "Current iteration=25, the loss=45.63474094145733\n",
      "Current iteration=26, the loss=44.99791098270397\n",
      "Current iteration=27, the loss=44.43609532861888\n",
      "Current iteration=28, the loss=43.942079160400034\n",
      "Current iteration=29, the loss=43.50914158652316\n",
      "Current iteration=30, the loss=43.13103415773372\n",
      "Current iteration=31, the loss=42.80196344918719\n",
      "Current iteration=32, the loss=42.51657603348126\n",
      "Current iteration=33, the loss=42.26994450595842\n",
      "Current iteration=34, the loss=42.05755353170234\n",
      "Current iteration=35, the loss=41.87528516692328\n",
      "Current iteration=36, the loss=41.719402966487785\n",
      "Current iteration=37, the loss=41.58653462172579\n",
      "Current iteration=38, the loss=41.47365307426655\n",
      "Current iteration=39, the loss=41.37805621827614\n",
      "Current iteration=40, the loss=41.29734543193524\n",
      "Current iteration=41, the loss=41.22940326810392\n",
      "Current iteration=42, the loss=41.17237068502709\n",
      "Current iteration=43, the loss=41.12462421410051\n",
      "Current iteration=44, the loss=41.08475344847987\n",
      "Current iteration=45, the loss=41.05153920022342\n",
      "Current iteration=46, the loss=41.02393262172539\n",
      "Current iteration=47, the loss=41.00103552621265\n",
      "Current iteration=48, the loss=40.98208207805038\n",
      "Current iteration=49, the loss=40.96642196142038\n",
      "Current iteration=50, the loss=40.953505079191046\n",
      "Current iteration=51, the loss=40.94286778481371\n",
      "Current iteration=52, the loss=40.93412061003269\n",
      "Current iteration=53, the loss=40.92693742033441\n",
      "Current iteration=54, the loss=40.92104590793629\n",
      "Current iteration=55, the loss=40.91621931782117\n",
      "Current iteration=56, the loss=40.91226929469072\n",
      "Current iteration=57, the loss=40.909039736482406\n",
      "Current iteration=58, the loss=40.906401542033635\n",
      "Current iteration=59, the loss=40.9042481454546\n",
      "Current iteration=60, the loss=40.90249173680816\n",
      "Current iteration=61, the loss=40.90106007697801\n",
      "Current iteration=62, the loss=40.89989382349368\n",
      "Current iteration=63, the loss=40.89894429308058\n",
      "Current iteration=64, the loss=40.898171595464405\n",
      "Current iteration=65, the loss=40.89754308123923\n",
      "Current iteration=66, the loss=40.89703205425937\n",
      "Current iteration=67, the loss=40.89661670595594\n",
      "Current iteration=68, the loss=40.89627923518343\n",
      "Current iteration=69, the loss=40.89600512267937\n",
      "Current iteration=70, the loss=40.89578253400527\n",
      "Current iteration=71, the loss=40.895601828980304\n",
      "Current iteration=72, the loss=40.89545515917935\n",
      "Current iteration=73, the loss=40.895336138104845\n",
      "Current iteration=74, the loss=40.89523957122025\n",
      "Current iteration=75, the loss=40.89516123520852\n",
      "Current iteration=76, the loss=40.8950976976484\n",
      "Current iteration=77, the loss=40.89504616983156\n",
      "Current iteration=78, the loss=40.89500438672093\n",
      "Current iteration=79, the loss=40.894970509112156\n",
      "Current iteration=80, the loss=40.89494304394041\n",
      "Current iteration=81, the loss=40.894920779403435\n",
      "Current iteration=82, the loss=40.89490273217261\n",
      "Current iteration=83, the loss=40.89488810445923\n",
      "Current iteration=84, the loss=40.89487624911003\n",
      "Current iteration=85, the loss=40.894866641241066\n",
      "Current iteration=86, the loss=40.894858855192595\n",
      "Current iteration=87, the loss=40.894852545812356\n",
      "Current iteration=88, the loss=40.89484743325853\n",
      "Current iteration=89, the loss=40.89484329066319\n",
      "Current iteration=90, the loss=40.89483993412027\n",
      "Current iteration=91, the loss=40.894837214561406\n",
      "Current iteration=92, the loss=40.89483501116511\n",
      "Current iteration=93, the loss=40.894833226010334\n",
      "Current iteration=94, the loss=40.8948317797405\n",
      "Current iteration=95, the loss=40.8948306080472\n",
      "Current iteration=96, the loss=40.89482965881903\n",
      "Current iteration=97, the loss=40.89482888983001\n",
      "Current iteration=98, the loss=40.89482826686566\n",
      "Current iteration=99, the loss=40.89482776220382\n",
      "loss=40.894827353383455\n"
     ]
    },
    {
     "data": {
      "image/png": "[encoded data removed]",
      "text/plain": [
       "<Figure size 432x288 with 2 Axes>"
      ]
     },
     "metadata": {
      "needs_background": "light"
     },
     "output_type": "display_data"
    }
   ],
   "source": [
    "def logistic_regression_newton_method_demo(y, x):\n",
    "    # init parameters\n",
    "    max_iter = 100\n",
    "    threshold = 1e-8\n",
    "    lambda_ = 0.1\n",
    "    losses = []\n",
    "\n",
    "    # build tx\n",
    "    tx = np.c_[np.ones((y.shape[0], 1)), x]\n",
    "    w = np.zeros((tx.shape[1], 1))\n",
    "\n",
    "    # start the logistic regression\n",
    "    for iter in range(max_iter):\n",
    "        # get loss and update w.\n",
    "        loss, w = learning_by_newton_method(y, tx, w, lambda_)\n",
    "        # log info\n",
    "        if iter % 1 == 0:\n",
    "            print(\"Current iteration={i}, the loss={l}\".format(i=iter, l=loss))\n",
    "        # converge criterion\n",
    "        losses.append(loss)\n",
    "        if len(losses) > 1 and np.abs(losses[-1] - losses[-2]) < threshold:\n",
    "            break\n",
    "    # visualization\n",
    "    visualization(y, x, mean_x, std_x, w, \"classification_by_logistic_regression_newton_method\",True)\n",
    "    print(\"loss={l}\".format(l=calculate_loss(y, tx, w)))\n",
    "\n",
    "logistic_regression_newton_method_demo(y, x)"
   ]
  },
  {
   "cell_type": "markdown",
   "metadata": {},
   "source": [
    "### Using penalized logistic regression\n",
    "Fill in the function below."
   ]
  },
  {
   "cell_type": "code",
   "execution_count": 33,
   "metadata": {},
   "outputs": [],
   "source": [
    "def penalized_logistic_regression(y, tx, w, lambda_):\n",
    "    \"\"\"return the loss, gradient, and hessian.\"\"\"\n",
    "    w_norm2 = np.squeeze(w.T @ w)\n",
    "    loss = calculate_loss(y, tx, w) + lambda_ * w_norm2\n",
    "    gradient = calculate_gradient(y, tx, w) + 2 * lambda_ * w\n",
    "    hessian = calculate_hessian(y, tx, w) + lambda_ * np.identity(len(w))\n",
    "    \n",
    "    return loss, gradient, hessian"
   ]
  },
  {
   "cell_type": "markdown",
   "metadata": {},
   "source": [
    "Here I am using the newton method eventhough we are doing the logistic regression. It converges much faster than the official solution. On the official solution they are using standard gradient descent."
   ]
  },
  {
   "cell_type": "code",
   "execution_count": 36,
   "metadata": {},
   "outputs": [],
   "source": [
    "def learning_by_penalized_gradient(y, tx, w, gamma, lambda_):\n",
    "    \"\"\"\n",
    "    Do one step of gradient descent, using the penalized logistic regression.\n",
    "    Return the loss and updated w.\n",
    "    \"\"\"\n",
    "    loss, gradient, hessian = penalized_logistic_regression(y, tx, w, lambda_)\n",
    "    \n",
    "    # Updating w\n",
    "    w -= np.linalg.solve(hessian, gradient)\n",
    "\n",
    "    return loss, w"
   ]
  },
  {
   "cell_type": "code",
   "execution_count": null,
   "metadata": {},
   "outputs": [],
   "source": [
    "def logistic_regression_penalized_gradient_descent_demo(y, x):\n",
    "    # init parameters\n",
    "    max_iter = 10000\n",
    "    gamma = 0.01\n",
    "    lambda_ = 0.1\n",
    "    threshold = 1e-8\n",
    "    losses = []\n",
    "\n",
    "    # build tx\n",
    "    tx = np.c_[np.ones((y.shape[0], 1)), x]\n",
    "    w = np.zeros((tx.shape[1], 1))\n",
    "\n",
    "    # start the logistic regression\n",
    "    for iter in range(max_iter):\n",
    "        # get loss and update w.\n",
    "        loss, w = learning_by_penalized_gradient(y, tx, w, gamma, lambda_)\n",
    "        # log info\n",
    "        if iter % 100 == 0:\n",
    "            print(\"Current iteration={i}, loss={l}\".format(i=iter, l=loss))\n",
    "        # converge criterion\n",
    "        losses.append(loss)\n",
    "        if len(losses) > 1 and np.abs(losses[-1] - losses[-2]) < threshold:\n",
    "            break\n",
    "    # visualization\n",
    "    visualization(y, x, mean_x, std_x, w, \"classification_by_logistic_regression_penalized_gradient_descent\",True)\n",
    "    print(\"loss={l}\".format(l=calculate_loss(y, tx, w)))\n",
    "    \n",
    "logistic_regression_penalized_gradient_descent_demo(y, x)"
   ]
  },
  {
   "cell_type": "code",
   "execution_count": null,
   "metadata": {},
   "outputs": [],
   "source": []
  }
 ],
 "metadata": {
  "anaconda-cloud": {},
  "kernelspec": {
   "display_name": "Python 3",
   "language": "python",
   "name": "python3"
  },
  "language_info": {
   "codemirror_mode": {
    "name": "ipython",
    "version": 3
   },
   "file_extension": ".py",
   "mimetype": "text/x-python",
   "name": "python",
   "nbconvert_exporter": "python",
   "pygments_lexer": "ipython3",
   "version": "3.7.3"
  }
 },
 "nbformat": 4,
 "nbformat_minor": 1
}

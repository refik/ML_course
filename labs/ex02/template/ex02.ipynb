{
 "cells": [
  {
   "cell_type": "code",
   "execution_count": 1,
   "metadata": {},
   "outputs": [],
   "source": [
    "# Useful starting lines\n",
    "%matplotlib inline\n",
    "import numpy as np\n",
    "import matplotlib.pyplot as plt\n",
    "%load_ext autoreload\n",
    "%autoreload 2"
   ]
  },
  {
   "cell_type": "markdown",
   "metadata": {},
   "source": [
    "# Load the data"
   ]
  },
  {
   "cell_type": "code",
   "execution_count": 2,
   "metadata": {},
   "outputs": [],
   "source": [
    "import datetime\n",
    "from helpers import *\n",
    "\n",
    "height, weight, gender = load_data(sub_sample=False, add_outlier=False)\n",
    "x, mean_x, std_x = standardize(height)\n",
    "y, tx = build_model_data(x, weight)"
   ]
  },
  {
   "cell_type": "code",
   "execution_count": 42,
   "metadata": {},
   "outputs": [
    {
     "name": "stdout",
     "output_type": "stream",
     "text": [
      "(10000,) (10000, 2)\n",
      "[[ 1.          1.94406149]\n",
      " [ 1.          0.62753668]\n",
      " [ 1.          2.01244346]\n",
      " ...\n",
      " [ 1.         -0.64968792]\n",
      " [ 1.          0.69312469]\n",
      " [ 1.         -1.14970831]]\n"
     ]
    },
    {
     "data": {
      "text/plain": [
       "10000"
      ]
     },
     "execution_count": 42,
     "metadata": {},
     "output_type": "execute_result"
    }
   ],
   "source": [
    "print(y.shape, tx.shape)\n",
    "\n",
    "print(tx)\n",
    "len(y)"
   ]
  },
  {
   "cell_type": "markdown",
   "metadata": {},
   "source": [
    "# 1 Computing the Cost Function"
   ]
  },
  {
   "cell_type": "markdown",
   "metadata": {},
   "source": [
    "Fill in the `compute_loss` function below:\n",
    "<a id='compute_loss'></a>\n"
   ]
  },
  {
   "cell_type": "code",
   "execution_count": 43,
   "metadata": {},
   "outputs": [
    {
     "data": {
      "text/plain": [
       "5388.966731774168"
      ]
     },
     "execution_count": 43,
     "metadata": {},
     "output_type": "execute_result"
    }
   ],
   "source": [
    "def compute_loss(y, tx, w):\n",
    "    \"\"\"Calculate the loss.\n",
    "\n",
    "    You can calculate the loss using mse or mae.\n",
    "    \"\"\"\n",
    "    e = y - tx @ w\n",
    "    return (np.transpose(e) @ e) / len(y)\n",
    "    \n",
    "compute_loss(y, tx, np.transpose((1,2)))"
   ]
  },
  {
   "cell_type": "markdown",
   "metadata": {},
   "source": [
    "# 2 Grid Search\n",
    "\n",
    "Fill in the function `grid_search()` below:"
   ]
  },
  {
   "cell_type": "code",
   "execution_count": 60,
   "metadata": {},
   "outputs": [
    {
     "name": "stdout",
     "output_type": "stream",
     "text": [
      "Loss: 42.313068646229766 for w0=69.89999999999995, w1=13.63\n",
      "Loss: 42.32277885332254 for w0=69.89999999999995, w1=13.3\n",
      "Loss: 42.521158439137 for w0=69.89999999999995, w1=13.96\n",
      "Loss: 42.55028906041531 for w0=69.89999999999995, w1=12.97\n",
      "Loss: 42.94704823204423 for w0=69.89999999999995, w1=14.290000000000001\n",
      "Loss: 42.995599267508084 for w0=69.89999999999995, w1=12.64\n",
      "Loss: 43.590738024951456 for w0=69.89999999999995, w1=14.620000000000001\n",
      "Loss: 43.65870947460084 for w0=69.89999999999995, w1=12.31\n",
      "Loss: 44.45222781785869 for w0=69.89999999999995, w1=14.950000000000001\n",
      "Loss: 44.539619681693615 for w0=69.89999999999995, w1=11.98\n"
     ]
    },
    {
     "data": {
      "text/plain": [
       "array([[219.60853657, 217.42082636, 215.45091615, 213.69880594,\n",
       "        212.16449574, 210.84798553, 209.74927532, 208.86836512,\n",
       "        208.20525491, 207.7599447 , 207.5324345 , 207.52272429,\n",
       "        207.73081408, 208.15670387, 208.80039367, 209.66188346,\n",
       "        210.74117325, 212.03826305, 213.55315284, 215.28584263,\n",
       "        217.23633242, 219.40462222, 221.79071201, 224.3946018 ,\n",
       "        227.2162916 , 230.25578139, 233.51307118, 236.98816097,\n",
       "        240.68105077, 244.59174056, 248.72023035],\n",
       "       [210.94344804, 208.75573784, 206.78582763, 205.03371742,\n",
       "        203.49940722, 202.18289701, 201.0841868 , 200.20327659,\n",
       "        199.54016639, 199.09485618, 198.86734597, 198.85763577,\n",
       "        199.06572556, 199.49161535, 200.13530515, 200.99679494,\n",
       "        202.07608473, 203.37317452, 204.88806432, 206.62075411,\n",
       "        208.5712439 , 210.7395337 , 213.12562349, 215.72951328,\n",
       "        218.55120307, 221.59069287, 224.84798266, 228.32307245,\n",
       "        232.01596225, 235.92665204, 240.05514183],\n",
       "       [202.49615952, 200.30844932, 198.33853911, 196.5864289 ,\n",
       "        195.05211869, 193.73560849, 192.63689828, 191.75598807,\n",
       "        191.09287787, 190.64756766, 190.42005745, 190.41034725,\n",
       "        190.61843704, 191.04432683, 191.68801662, 192.54950642,\n",
       "        193.62879621, 194.925886  , 196.4407758 , 198.17346559,\n",
       "        200.12395538, 202.29224517, 204.67833497, 207.28222476,\n",
       "        210.10391455, 213.14340435, 216.40069414, 219.87578393,\n",
       "        223.56867372, 227.47936352, 231.60785331],\n",
       "       [194.266671  , 192.07896079, 190.10905059, 188.35694038,\n",
       "        186.82263017, 185.50611997, 184.40740976, 183.52649955,\n",
       "        182.86338935, 182.41807914, 182.19056893, 182.18085872,\n",
       "        182.38894852, 182.81483831, 183.4585281 , 184.3200179 ,\n",
       "        185.39930769, 186.69639748, 188.21128727, 189.94397707,\n",
       "        191.89446686, 194.06275665, 196.44884645, 199.05273624,\n",
       "        201.87442603, 204.91391582, 208.17120562, 211.64629541,\n",
       "        215.3391852 , 219.249875  , 223.37836479],\n",
       "       [186.25498248, 184.06727227, 182.09736207, 180.34525186,\n",
       "        178.81094165, 177.49443144, 176.39572124, 175.51481103,\n",
       "        174.85170082, 174.40639062, 174.17888041, 174.1691702 ,\n",
       "        174.37726   , 174.80314979, 175.44683958, 176.30832937,\n",
       "        177.38761917, 178.68470896, 180.19959875, 181.93228855,\n",
       "        183.88277834, 186.05106813, 188.43715792, 191.04104772,\n",
       "        193.86273751, 196.9022273 , 200.1595171 , 203.63460689,\n",
       "        207.32749668, 211.23818647, 215.36667627],\n",
       "       [178.46109396, 176.27338375, 174.30347354, 172.55136334,\n",
       "        171.01705313, 169.70054292, 168.60183272, 167.72092251,\n",
       "        167.0578123 , 166.6125021 , 166.38499189, 166.37528168,\n",
       "        166.58337147, 167.00926127, 167.65295106, 168.51444085,\n",
       "        169.59373065, 170.89082044, 172.40571023, 174.13840002,\n",
       "        176.08888982, 178.25717961, 180.6432694 , 183.2471592 ,\n",
       "        186.06884899, 189.10833878, 192.36562857, 195.84071837,\n",
       "        199.53360816, 203.44429795, 207.57278775],\n",
       "       [170.88500544, 168.69729523, 166.72738502, 164.97527482,\n",
       "        163.44096461, 162.1244544 , 161.0257442 , 160.14483399,\n",
       "        159.48172378, 159.03641357, 158.80890337, 158.79919316,\n",
       "        159.00728295, 159.43317275, 160.07686254, 160.93835233,\n",
       "        162.01764212, 163.31473192, 164.82962171, 166.5623115 ,\n",
       "        168.5128013 , 170.68109109, 173.06718088, 175.67107067,\n",
       "        178.49276047, 181.53225026, 184.78954005, 188.26462985,\n",
       "        191.95751964, 195.86820943, 199.99669922],\n",
       "       [163.52671692, 161.33900671, 159.3690965 , 157.61698629,\n",
       "        156.08267609, 154.76616588, 153.66745567, 152.78654547,\n",
       "        152.12343526, 151.67812505, 151.45061485, 151.44090464,\n",
       "        151.64899443, 152.07488422, 152.71857402, 153.58006381,\n",
       "        154.6593536 , 155.9564434 , 157.47133319, 159.20402298,\n",
       "        161.15451277, 163.32280257, 165.70889236, 168.31278215,\n",
       "        171.13447195, 174.17396174, 177.43125153, 180.90634132,\n",
       "        184.59923112, 188.50992091, 192.6384107 ],\n",
       "       [156.38622839, 154.19851819, 152.22860798, 150.47649777,\n",
       "        148.94218757, 147.62567736, 146.52696715, 145.64605695,\n",
       "        144.98294674, 144.53763653, 144.31012632, 144.30041612,\n",
       "        144.50850591, 144.9343957 , 145.5780855 , 146.43957529,\n",
       "        147.51886508, 148.81595487, 150.33084467, 152.06353446,\n",
       "        154.01402425, 156.18231405, 158.56840384, 161.17229363,\n",
       "        163.99398342, 167.03347322, 170.29076301, 173.7658528 ,\n",
       "        177.4587426 , 181.36943239, 185.49792218],\n",
       "       [149.46353987, 147.27582967, 145.30591946, 143.55380925,\n",
       "        142.01949905, 140.70298884, 139.60427863, 138.72336842,\n",
       "        138.06025822, 137.61494801, 137.3874378 , 137.3777276 ,\n",
       "        137.58581739, 138.01170718, 138.65539697, 139.51688677,\n",
       "        140.59617656, 141.89326635, 143.40815615, 145.14084594,\n",
       "        147.09133573, 149.25962552, 151.64571532, 154.24960511,\n",
       "        157.0712949 , 160.1107847 , 163.36807449, 166.84316428,\n",
       "        170.53605407, 174.44674387, 178.57523366],\n",
       "       [142.75865135, 140.57094114, 138.60103094, 136.84892073,\n",
       "        135.31461052, 133.99810032, 132.89939011, 132.0184799 ,\n",
       "        131.3553697 , 130.91005949, 130.68254928, 130.67283907,\n",
       "        130.88092887, 131.30681866, 131.95050845, 132.81199825,\n",
       "        133.89128804, 135.18837783, 136.70326762, 138.43595742,\n",
       "        140.38644721, 142.554737  , 144.9408268 , 147.54471659,\n",
       "        150.36640638, 153.40589617, 156.66318597, 160.13827576,\n",
       "        163.83116555, 167.74185535, 171.87034514],\n",
       "       [136.27156283, 134.08385262, 132.11394242, 130.36183221,\n",
       "        128.827522  , 127.5110118 , 126.41230159, 125.53139138,\n",
       "        124.86828117, 124.42297097, 124.19546076, 124.18575055,\n",
       "        124.39384035, 124.81973014, 125.46341993, 126.32490972,\n",
       "        127.40419952, 128.70128931, 130.2161791 , 131.9488689 ,\n",
       "        133.89935869, 136.06764848, 138.45373827, 141.05762807,\n",
       "        143.87931786, 146.91880765, 150.17609745, 153.65118724,\n",
       "        157.34407703, 161.25476682, 165.38325662],\n",
       "       [130.00227431, 127.8145641 , 125.8446539 , 124.09254369,\n",
       "        122.55823348, 121.24172327, 120.14301307, 119.26210286,\n",
       "        118.59899265, 118.15368245, 117.92617224, 117.91646203,\n",
       "        118.12455182, 118.55044162, 119.19413141, 120.0556212 ,\n",
       "        121.134911  , 122.43200079, 123.94689058, 125.67958037,\n",
       "        127.63007017, 129.79835996, 132.18444975, 134.78833955,\n",
       "        137.61002934, 140.64951913, 143.90680892, 147.38189872,\n",
       "        151.07478851, 154.9854783 , 159.1139681 ],\n",
       "       [123.95078579, 121.76307558, 119.79316537, 118.04105517,\n",
       "        116.50674496, 115.19023475, 114.09152455, 113.21061434,\n",
       "        112.54750413, 112.10219392, 111.87468372, 111.86497351,\n",
       "        112.0730633 , 112.4989531 , 113.14264289, 114.00413268,\n",
       "        115.08342247, 116.38051227, 117.89540206, 119.62809185,\n",
       "        121.57858165, 123.74687144, 126.13296123, 128.73685102,\n",
       "        131.55854082, 134.59803061, 137.8553204 , 141.3304102 ,\n",
       "        145.02329999, 148.93398978, 153.06247958],\n",
       "       [118.11709727, 115.92938706, 113.95947685, 112.20736665,\n",
       "        110.67305644, 109.35654623, 108.25783602, 107.37692582,\n",
       "        106.71381561, 106.2685054 , 106.0409952 , 106.03128499,\n",
       "        106.23937478, 106.66526457, 107.30895437, 108.17044416,\n",
       "        109.24973395, 110.54682375, 112.06171354, 113.79440333,\n",
       "        115.74489312, 117.91318292, 120.29927271, 122.9031625 ,\n",
       "        125.7248523 , 128.76434209, 132.02163188, 135.49672167,\n",
       "        139.18961147, 143.10030126, 147.22879105],\n",
       "       [112.50120875, 110.31349854, 108.34358833, 106.59147812,\n",
       "        105.05716792, 103.74065771, 102.6419475 , 101.7610373 ,\n",
       "        101.09792709, 100.65261688, 100.42510667, 100.41539647,\n",
       "        100.62348626, 101.04937605, 101.69306585, 102.55455564,\n",
       "        103.63384543, 104.93093522, 106.44582502, 108.17851481,\n",
       "        110.1290046 , 112.2972944 , 114.68338419, 117.28727398,\n",
       "        120.10896377, 123.14845357, 126.40574336, 129.88083315,\n",
       "        133.57372295, 137.48441274, 141.61290253],\n",
       "       [107.10312022, 104.91541002, 102.94549981, 101.1933896 ,\n",
       "         99.6590794 ,  98.34256919,  97.24385898,  96.36294877,\n",
       "         95.69983857,  95.25452836,  95.02701815,  95.01730795,\n",
       "         95.22539774,  95.65128753,  96.29497732,  97.15646712,\n",
       "         98.23575691,  99.5328467 , 101.0477365 , 102.78042629,\n",
       "        104.73091608, 106.89920587, 109.28529567, 111.88918546,\n",
       "        114.71087525, 117.75036505, 121.00765484, 124.48274463,\n",
       "        128.17563443, 132.08632422, 136.21481401],\n",
       "       [101.9228317 ,  99.7351215 ,  97.76521129,  96.01310108,\n",
       "         94.47879087,  93.16228067,  92.06357046,  91.18266025,\n",
       "         90.51955005,  90.07423984,  89.84672963,  89.83701942,\n",
       "         90.04510922,  90.47099901,  91.1146888 ,  91.9761786 ,\n",
       "         93.05546839,  94.35255818,  95.86744797,  97.60013777,\n",
       "         99.55062756, 101.71891735, 104.10500715, 106.70889694,\n",
       "        109.53058673, 112.57007652, 115.82736632, 119.30245611,\n",
       "        122.9953459 , 126.9060357 , 131.03452549],\n",
       "       [ 96.96034318,  94.77263297,  92.80272277,  91.05061256,\n",
       "         89.51630235,  88.19979215,  87.10108194,  86.22017173,\n",
       "         85.55706152,  85.11175132,  84.88424111,  84.8745309 ,\n",
       "         85.0826207 ,  85.50851049,  86.15220028,  87.01369007,\n",
       "         88.09297987,  89.39006966,  90.90495945,  92.63764925,\n",
       "         94.58813904,  96.75642883,  99.14251862, 101.74640842,\n",
       "        104.56809821, 107.607588  , 110.8648778 , 114.33996759,\n",
       "        118.03285738, 121.94354718, 126.07203697],\n",
       "       [ 92.21565466,  90.02794445,  88.05803425,  86.30592404,\n",
       "         84.77161383,  83.45510362,  82.35639342,  81.47548321,\n",
       "         80.812373  ,  80.3670628 ,  80.13955259,  80.12984238,\n",
       "         80.33793217,  80.76382197,  81.40751176,  82.26900155,\n",
       "         83.34829135,  84.64538114,  86.16027093,  87.89296072,\n",
       "         89.84345052,  92.01174031,  94.3978301 ,  97.0017199 ,\n",
       "         99.82340969, 102.86289948, 106.12018928, 109.59527907,\n",
       "        113.28816886, 117.19885865, 121.32734845],\n",
       "       [ 87.68876614,  85.50105593,  83.53114572,  81.77903552,\n",
       "         80.24472531,  78.9282151 ,  77.8295049 ,  76.94859469,\n",
       "         76.28548448,  75.84017427,  75.61266407,  75.60295386,\n",
       "         75.81104365,  76.23693345,  76.88062324,  77.74211303,\n",
       "         78.82140282,  80.11849262,  81.63338241,  83.3660722 ,\n",
       "         85.316562  ,  87.48485179,  89.87094158,  92.47483138,\n",
       "         95.29652117,  98.33601096, 101.59330075, 105.06839055,\n",
       "        108.76128034, 112.67197013, 116.80045993],\n",
       "       [ 83.37967762,  81.19196741,  79.2220572 ,  77.469947  ,\n",
       "         75.93563679,  74.61912658,  73.52041637,  72.63950617,\n",
       "         71.97639596,  71.53108575,  71.30357555,  71.29386534,\n",
       "         71.50195513,  71.92784492,  72.57153472,  73.43302451,\n",
       "         74.5123143 ,  75.8094041 ,  77.32429389,  79.05698368,\n",
       "         81.00747347,  83.17576327,  85.56185306,  88.16574285,\n",
       "         90.98743265,  94.02692244,  97.28421223, 100.75930203,\n",
       "        104.45219182, 108.36288161, 112.4913714 ],\n",
       "       [ 79.2883891 ,  77.10067889,  75.13076868,  73.37865847,\n",
       "         71.84434827,  70.52783806,  69.42912785,  68.54821765,\n",
       "         67.88510744,  67.43979723,  67.21228702,  67.20257682,\n",
       "         67.41066661,  67.8365564 ,  68.4802462 ,  69.34173599,\n",
       "         70.42102578,  71.71811557,  73.23300537,  74.96569516,\n",
       "         76.91618495,  79.08447475,  81.47056454,  84.07445433,\n",
       "         86.89614413,  89.93563392,  93.19292371,  96.6680135 ,\n",
       "        100.3609033 , 104.27159309, 108.40008288],\n",
       "       [ 75.41490057,  73.22719037,  71.25728016,  69.50516995,\n",
       "         67.97085975,  66.65434954,  65.55563933,  64.67472912,\n",
       "         64.01161892,  63.56630871,  63.3387985 ,  63.3290883 ,\n",
       "         63.53717809,  63.96306788,  64.60675767,  65.46824747,\n",
       "         66.54753726,  67.84462705,  69.35951685,  71.09220664,\n",
       "         73.04269643,  75.21098623,  77.59707602,  80.20096581,\n",
       "         83.0226556 ,  86.0621454 ,  89.31943519,  92.79452498,\n",
       "         96.48741478, 100.39810457, 104.52659436],\n",
       "       [ 71.75921205,  69.57150185,  67.60159164,  65.84948143,\n",
       "         64.31517122,  62.99866102,  61.89995081,  61.0190406 ,\n",
       "         60.3559304 ,  59.91062019,  59.68310998,  59.67339977,\n",
       "         59.88148957,  60.30737936,  60.95106915,  61.81255895,\n",
       "         62.89184874,  64.18893853,  65.70382832,  67.43651812,\n",
       "         69.38700791,  71.5552977 ,  73.9413875 ,  76.54527729,\n",
       "         79.36696708,  82.40645688,  85.66374667,  89.13883646,\n",
       "         92.83172625,  96.74241605, 100.87090584],\n",
       "       [ 68.32132353,  66.13361332,  64.16370312,  62.41159291,\n",
       "         60.8772827 ,  59.5607725 ,  58.46206229,  57.58115208,\n",
       "         56.91804187,  56.47273167,  56.24522146,  56.23551125,\n",
       "         56.44360105,  56.86949084,  57.51318063,  58.37467042,\n",
       "         59.45396022,  60.75105001,  62.2659398 ,  63.9986296 ,\n",
       "         65.94911939,  68.11740918,  70.50349898,  73.10738877,\n",
       "         75.92907856,  78.96856835,  82.22585815,  85.70094794,\n",
       "         89.39383773,  93.30452753,  97.43301732],\n",
       "       [ 65.10123501,  62.9135248 ,  60.9436146 ,  59.19150439,\n",
       "         57.65719418,  56.34068397,  55.24197377,  54.36106356,\n",
       "         53.69795335,  53.25264315,  53.02513294,  53.01542273,\n",
       "         53.22351252,  53.64940232,  54.29309211,  55.1545819 ,\n",
       "         56.2338717 ,  57.53096149,  59.04585128,  60.77854108,\n",
       "         62.72903087,  64.89732066,  67.28341045,  69.88730025,\n",
       "         72.70899004,  75.74847983,  79.00576963,  82.48085942,\n",
       "         86.17374921,  90.084439  ,  94.2129288 ],\n",
       "       [ 62.09894649,  59.91123628,  57.94132607,  56.18921587,\n",
       "         54.65490566,  53.33839545,  52.23968525,  51.35877504,\n",
       "         50.69566483,  50.25035462,  50.02284442,  50.01313421,\n",
       "         50.221224  ,  50.6471138 ,  51.29080359,  52.15229338,\n",
       "         53.23158317,  54.52867297,  56.04356276,  57.77625255,\n",
       "         59.72674235,  61.89503214,  64.28112193,  66.88501173,\n",
       "         69.70670152,  72.74619131,  76.0034811 ,  79.4785709 ,\n",
       "         83.17146069,  87.08215048,  91.21064028],\n",
       "       [ 59.31445797,  57.12674776,  55.15683755,  53.40472735,\n",
       "         51.87041714,  50.55390693,  49.45519672,  48.57428652,\n",
       "         47.91117631,  47.4658661 ,  47.2383559 ,  47.22864569,\n",
       "         47.43673548,  47.86262527,  48.50631507,  49.36780486,\n",
       "         50.44709465,  51.74418445,  53.25907424,  54.99176403,\n",
       "         56.94225383,  59.11054362,  61.49663341,  64.1005232 ,\n",
       "         66.922213  ,  69.96170279,  73.21899258,  76.69408238,\n",
       "         80.38697217,  84.29766196,  88.42615175],\n",
       "       [ 56.74776945,  54.56005924,  52.59014903,  50.83803882,\n",
       "         49.30372862,  47.98721841,  46.8885082 ,  46.007598  ,\n",
       "         45.34448779,  44.89917758,  44.67166737,  44.66195717,\n",
       "         44.87004696,  45.29593675,  45.93962655,  46.80111634,\n",
       "         47.88040613,  49.17749593,  50.69238572,  52.42507551,\n",
       "         54.3755653 ,  56.5438551 ,  58.92994489,  61.53383468,\n",
       "         64.35552448,  67.39501427,  70.65230406,  74.12739385,\n",
       "         77.82028365,  81.73097344,  85.85946323],\n",
       "       [ 54.39888092,  52.21117072,  50.24126051,  48.4891503 ,\n",
       "         46.9548401 ,  45.63832989,  44.53961968,  43.65870947,\n",
       "         42.99559927,  42.55028906,  42.32277885,  42.31306865,\n",
       "         42.52115844,  42.94704823,  43.59073802,  44.45222782,\n",
       "         45.53151761,  46.8286074 ,  48.3434972 ,  50.07618699,\n",
       "         52.02667678,  54.19496658,  56.58105637,  59.18494616,\n",
       "         62.00663595,  65.04612575,  68.30341554,  71.77850533,\n",
       "         75.47139513,  79.38208492,  83.51057471]])"
      ]
     },
     "execution_count": 60,
     "metadata": {},
     "output_type": "execute_result"
    }
   ],
   "source": [
    "def grid_search(y, tx, w0, w1):\n",
    "    \"\"\"Algorithm for grid search.\"\"\"\n",
    "    # ***************************************************\n",
    "    # INSERT YOUR CODE HERE\n",
    "    # TODO: compute loss for each combination of w0 and w1.\n",
    "    # ***************************************************\n",
    "    losses = np.zeros((len(w0), len(w1)))\n",
    "    \n",
    "    for i in range(len(w0)):\n",
    "        for j in range(len(w1)):\n",
    "            losses[i,j] = compute_loss(y, tx, np.transpose((w0[i], w1[j])))\n",
    "    \n",
    "    result_set = sorted([\n",
    "        (compute_loss(y, tx, np.transpose((i_w0, i_w1))), i_w0, i_w1)\n",
    "        for i_w1 in w1\n",
    "        for i_w0 in w0\n",
    "    ], key=lambda a: a[0])\n",
    "    \n",
    "    for loss, w0, w1 in result_set[:10]:\n",
    "        print(\"Loss: {} for w0={}, w1={}\".format(loss, w0, w1))\n",
    "    \n",
    "    return losses\n",
    "\n",
    "grid_search(y, tx, np.arange(60, 70, 0.33), np.arange(10, 20, 0.33))"
   ]
  },
  {
   "cell_type": "code",
   "execution_count": 59,
   "metadata": {},
   "outputs": [
    {
     "data": {
      "text/plain": [
       "array([-100.        ,  -66.66666667,  -33.33333333,    0.        ,\n",
       "         33.33333333,   66.66666667,  100.        ,  133.33333333,\n",
       "        166.66666667,  200.        ])"
      ]
     },
     "execution_count": 59,
     "metadata": {},
     "output_type": "execute_result"
    }
   ],
   "source": [
    "grid_w0"
   ]
  },
  {
   "cell_type": "markdown",
   "metadata": {},
   "source": [
    "Let us play with the grid search demo now!"
   ]
  },
  {
   "cell_type": "code",
   "execution_count": 57,
   "metadata": {},
   "outputs": [
    {
     "name": "stdout",
     "output_type": "stream",
     "text": [
      "Loss: 84.84896629356496 for w0=66.66666666666669, w1=16.666666666666686\n",
      "Loss: 754.143055042108 for w0=100.0, w1=16.666666666666686\n",
      "Loss: 983.4964619595004 for w0=66.66666666666669, w1=-16.666666666666657\n",
      "Loss: 1408.4236928498515 for w0=66.66666666666669, w1=50.0\n",
      "Loss: 1637.777099767244 for w0=33.33333333333334, w1=16.666666666666686\n",
      "Loss: 1652.7905507080459 for w0=100.0, w1=-16.666666666666657\n",
      "Loss: 2077.7177815983923 for w0=100.0, w1=50.0\n",
      "Loss: 2536.4245954331773 for w0=33.33333333333334, w1=-16.666666666666657\n",
      "Loss: 2961.3518263235333 for w0=33.33333333333334, w1=50.0\n",
      "Loss: 3645.6593660128733 for w0=133.33333333333334, w1=16.666666666666686\n",
      "Grid Search: loss*=84.84896629356496, w0*=66.66666666666669, w1*=16.666666666666686, execution time=0.021 seconds\n"
     ]
    },
    {
     "data": {
      "image/png": "[encoded data removed]",
      "text/plain": [
       "<Figure size 720x432 with 3 Axes>"
      ]
     },
     "metadata": {
      "needs_background": "light"
     },
     "output_type": "display_data"
    }
   ],
   "source": [
    "from grid_search import generate_w, get_best_parameters\n",
    "from plots import grid_visualization\n",
    "\n",
    "# Generate the grid of parameters to be swept\n",
    "grid_w0, grid_w1 = generate_w(num_intervals=10)\n",
    "\n",
    "# Start the grid search\n",
    "start_time = datetime.datetime.now()\n",
    "grid_losses = grid_search(y, tx, grid_w0, grid_w1)\n",
    "\n",
    "# Select the best combinaison\n",
    "loss_star, w0_star, w1_star = get_best_parameters(grid_w0, grid_w1, grid_losses)\n",
    "end_time = datetime.datetime.now()\n",
    "execution_time = (end_time - start_time).total_seconds()\n",
    "\n",
    "# Print the results\n",
    "print(\"Grid Search: loss*={l}, w0*={w0}, w1*={w1}, execution time={t:.3f} seconds\".format(\n",
    "      l=loss_star, w0=w0_star, w1=w1_star, t=execution_time))\n",
    "\n",
    "# Plot the results\n",
    "fig = grid_visualization(grid_losses, grid_w0, grid_w1, mean_x, std_x, height, weight)\n",
    "fig.set_size_inches(10.0,6.0)\n",
    "fig.savefig(\"grid_plot\")  # Optional saving"
   ]
  },
  {
   "cell_type": "markdown",
   "metadata": {},
   "source": [
    "# 3 Gradient Descent"
   ]
  },
  {
   "cell_type": "markdown",
   "metadata": {},
   "source": [
    "Again, please fill in the functions `compute_gradient` below:"
   ]
  },
  {
   "cell_type": "code",
   "execution_count": null,
   "metadata": {
    "collapsed": true
   },
   "outputs": [],
   "source": [
    "def compute_gradient(y, tx, w):\n",
    "    \"\"\"Compute the gradient.\"\"\"\n",
    "    # ***************************************************\n",
    "    # INSERT YOUR CODE HERE\n",
    "    # TODO: compute gradient and error vector\n",
    "    # ***************************************************\n",
    "    raise NotImplementedError"
   ]
  },
  {
   "cell_type": "markdown",
   "metadata": {},
   "source": [
    "Please fill in the functions `gradient_descent` below:"
   ]
  },
  {
   "cell_type": "code",
   "execution_count": null,
   "metadata": {
    "collapsed": true
   },
   "outputs": [],
   "source": [
    "def gradient_descent(y, tx, initial_w, max_iters, gamma):\n",
    "    \"\"\"Gradient descent algorithm.\"\"\"\n",
    "    # Define parameters to store w and loss\n",
    "    ws = [initial_w]\n",
    "    losses = []\n",
    "    w = initial_w\n",
    "    for n_iter in range(max_iters):\n",
    "        # ***************************************************\n",
    "        # INSERT YOUR CODE HERE\n",
    "        # TODO: compute gradient and loss\n",
    "        # ***************************************************\n",
    "        raise NotImplementedError\n",
    "        # ***************************************************\n",
    "        # INSERT YOUR CODE HERE\n",
    "        # TODO: update w by gradient\n",
    "        # ***************************************************\n",
    "        raise NotImplementedError\n",
    "        # store w and loss\n",
    "        ws.append(w)\n",
    "        losses.append(loss)\n",
    "        print(\"Gradient Descent({bi}/{ti}): loss={l}, w0={w0}, w1={w1}\".format(\n",
    "              bi=n_iter, ti=max_iters - 1, l=loss, w0=w[0], w1=w[1]))\n",
    "\n",
    "    return losses, ws"
   ]
  },
  {
   "cell_type": "markdown",
   "metadata": {},
   "source": [
    "Test your gradient descent function through gradient descent demo shown below:"
   ]
  },
  {
   "cell_type": "code",
   "execution_count": null,
   "metadata": {
    "collapsed": true
   },
   "outputs": [],
   "source": [
    "# from gradient_descent import *\n",
    "from plots import gradient_descent_visualization\n",
    "\n",
    "# Define the parameters of the algorithm.\n",
    "max_iters = 50\n",
    "gamma = 0.7\n",
    "\n",
    "# Initialization\n",
    "w_initial = np.array([0, 0])\n",
    "\n",
    "# Start gradient descent.\n",
    "start_time = datetime.datetime.now()\n",
    "gradient_losses, gradient_ws = gradient_descent(y, tx, w_initial, max_iters, gamma)\n",
    "end_time = datetime.datetime.now()\n",
    "\n",
    "# Print result\n",
    "exection_time = (end_time - start_time).total_seconds()\n",
    "print(\"Gradient Descent: execution time={t:.3f} seconds\".format(t=exection_time))"
   ]
  },
  {
   "cell_type": "code",
   "execution_count": null,
   "metadata": {
    "collapsed": true
   },
   "outputs": [],
   "source": [
    "# Time Visualization\n",
    "from ipywidgets import IntSlider, interact\n",
    "\n",
    "def plot_figure(n_iter):\n",
    "    fig = gradient_descent_visualization(\n",
    "        gradient_losses, gradient_ws, grid_losses, grid_w0, grid_w1, mean_x, std_x, height, weight, n_iter)\n",
    "    fig.set_size_inches(10.0, 6.0)\n",
    "\n",
    "interact(plot_figure, n_iter=IntSlider(min=1, max=len(gradient_ws)))"
   ]
  },
  {
   "cell_type": "markdown",
   "metadata": {},
   "source": [
    "# 4 Stochastic gradient descent"
   ]
  },
  {
   "cell_type": "code",
   "execution_count": null,
   "metadata": {
    "collapsed": true
   },
   "outputs": [],
   "source": [
    "def compute_stoch_gradient(y, tx, w):\n",
    "    \"\"\"Compute a stochastic gradient from just few examples n and their corresponding y_n labels.\"\"\"\n",
    "    # ***************************************************\n",
    "    # INSERT YOUR CODE HERE\n",
    "    # TODO: implement stochastic gradient computation.It's same as the gradient descent.\n",
    "    # ***************************************************\n",
    "    raise NotImplementedError\n",
    "\n",
    "\n",
    "def stochastic_gradient_descent(\n",
    "        y, tx, initial_w, batch_size, max_iters, gamma):\n",
    "    \"\"\"Stochastic gradient descent algorithm.\"\"\"\n",
    "    # ***************************************************\n",
    "    # INSERT YOUR CODE HERE\n",
    "    # TODO: implement stochastic gradient descent.\n",
    "    # ***************************************************\n",
    "    raise NotImplementedError\n",
    "    return losses, ws"
   ]
  },
  {
   "cell_type": "code",
   "execution_count": null,
   "metadata": {
    "collapsed": true
   },
   "outputs": [],
   "source": [
    "# from stochastic_gradient_descent import *\n",
    "\n",
    "# Define the parameters of the algorithm.\n",
    "max_iters = 50\n",
    "gamma = 0.7\n",
    "batch_size = 1\n",
    "\n",
    "# Initialization\n",
    "w_initial = np.array([0, 0])\n",
    "\n",
    "# Start SGD.\n",
    "start_time = datetime.datetime.now()\n",
    "sgd_losses, sgd_ws = stochastic_gradient_descent(\n",
    "    y, tx, w_initial, batch_size, max_iters, gamma)\n",
    "end_time = datetime.datetime.now()\n",
    "\n",
    "# Print result\n",
    "exection_time = (end_time - start_time).total_seconds()\n",
    "print(\"SGD: execution time={t:.3f} seconds\".format(t=exection_time))"
   ]
  },
  {
   "cell_type": "code",
   "execution_count": null,
   "metadata": {
    "collapsed": true
   },
   "outputs": [],
   "source": [
    "# Time Visualization\n",
    "from ipywidgets import IntSlider, interact\n",
    "def plot_figure(n_iter):\n",
    "    fig = gradient_descent_visualization(\n",
    "        sgd_losses, sgd_ws, grid_losses, grid_w0, grid_w1, mean_x, std_x, height, weight, n_iter)\n",
    "    fig.set_size_inches(10.0, 6.0)\n",
    "\n",
    "interact(plot_figure, n_iter=IntSlider(min=1, max=len(gradient_ws)))"
   ]
  },
  {
   "cell_type": "markdown",
   "metadata": {},
   "source": [
    "# 5 Effect of Outliers and MAE Cost Function, and Subgradient Descent"
   ]
  },
  {
   "cell_type": "markdown",
   "metadata": {},
   "source": [
    "### Exercise 5\n",
    "\n",
    "Load and plot data containing outliers"
   ]
  },
  {
   "cell_type": "code",
   "execution_count": null,
   "metadata": {
    "collapsed": true
   },
   "outputs": [],
   "source": []
  },
  {
   "cell_type": "markdown",
   "metadata": {},
   "source": [
    "### Exercise 6"
   ]
  },
  {
   "cell_type": "markdown",
   "metadata": {},
   "source": [
    "Modify the function `compute_loss(y, tx, w)` for the Mean Absolute Error cost function [here](#compute_loss)"
   ]
  }
 ],
 "metadata": {
  "anaconda-cloud": {},
  "kernelspec": {
   "display_name": "Python 3",
   "language": "python",
   "name": "python3"
  },
  "language_info": {
   "codemirror_mode": {
    "name": "ipython",
    "version": 3
   },
   "file_extension": ".py",
   "mimetype": "text/x-python",
   "name": "python",
   "nbconvert_exporter": "python",
   "pygments_lexer": "ipython3",
   "version": "3.7.3"
  }
 },
 "nbformat": 4,
 "nbformat_minor": 1
}

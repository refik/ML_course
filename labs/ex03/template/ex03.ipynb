{
 "cells": [
  {
   "cell_type": "code",
   "execution_count": 1,
   "metadata": {},
   "outputs": [],
   "source": [
    "# Useful starting lines\n",
    "%matplotlib inline\n",
    "import numpy as np\n",
    "import matplotlib.pyplot as plt\n",
    "%load_ext autoreload\n",
    "%autoreload 2"
   ]
  },
  {
   "cell_type": "markdown",
   "metadata": {},
   "source": [
    "# 1 Least squares and linear basis functions models\n",
    "## 1.1 Least squares"
   ]
  },
  {
   "cell_type": "code",
   "execution_count": 40,
   "metadata": {},
   "outputs": [],
   "source": [
    "def least_squares(y, tx):\n",
    "    a = tx.T.dot(tx)\n",
    "    b = tx.T.dot(y)\n",
    "    return np.linalg.solve(a, b)\n",
    "\n",
    "def calculate_rmse(y, tx, w):\n",
    "    e = y - tx @ w\n",
    "    return np.sqrt((np.transpose(e) @ e) / len(y))"
   ]
  },
  {
   "cell_type": "markdown",
   "metadata": {},
   "source": [
    "### Load the data\n",
    "Here we will reuse the dataset `height_weight_genders.csv` from previous exercise section to check the correctness of your implementation. Please compare it with your previous result."
   ]
  },
  {
   "cell_type": "code",
   "execution_count": 41,
   "metadata": {
    "scrolled": true
   },
   "outputs": [],
   "source": [
    "from helpers import *\n",
    "from grid_search import *\n",
    "from gradient_descent import *\n",
    "\n",
    "def test_your_least_squares():\n",
    "    height, weight, gender = load_data_from_ex02(sub_sample=False, add_outlier=False)\n",
    "    x, mean_x, std_x = standardize(height)\n",
    "    y, tx = build_model_data(x, weight)\n",
    "    # ***************************************************\n",
    "    # INSERT YOUR CODE HERE\n",
    "    # least square or grid search: TODO\n",
    "    # this code should compare the optimal weights obtained \n",
    "    # by least squares vs. grid search\n",
    "    # ***************************************************\n",
    "    gd_losses, gd_ws = gradient_descent(y, tx, np.array([0, 0]), max_iters=50, gamma=1)\n",
    "    gs_losses = grid_search(y, tx, np.arange(50, 100, 0.5), np.arange(0, 20, 0.5));\n",
    "    least_squares(y, tx)\n",
    "    \n",
    "    return "
   ]
  },
  {
   "cell_type": "markdown",
   "metadata": {},
   "source": [
    "Test it here"
   ]
  },
  {
   "cell_type": "code",
   "execution_count": 42,
   "metadata": {},
   "outputs": [
    {
     "name": "stdout",
     "output_type": "stream",
     "text": [
      "[gradient descent] (0/49): loss=30.7717757376588, w0=73.29392200210519, w1=13.479712434988977\n",
      "[gradient descent] (1/49): loss=30.7717757376588, w0=73.29392200210519, w1=13.479712434989048\n",
      "[gradient descent] (2/49): loss=30.7717757376588, w0=73.29392200210519, w1=13.479712434989048\n",
      "[gradient descent] (3/49): loss=30.7717757376588, w0=73.29392200210519, w1=13.479712434989048\n",
      "[gradient descent] (4/49): loss=30.7717757376588, w0=73.29392200210519, w1=13.479712434989048\n",
      "[gradient descent] (5/49): loss=30.7717757376588, w0=73.29392200210519, w1=13.479712434989048\n",
      "[gradient descent] (6/49): loss=30.7717757376588, w0=73.29392200210519, w1=13.479712434989048\n",
      "[gradient descent] (7/49): loss=30.7717757376588, w0=73.29392200210519, w1=13.479712434989048\n",
      "[gradient descent] (8/49): loss=30.7717757376588, w0=73.29392200210519, w1=13.479712434989048\n",
      "[gradient descent] (9/49): loss=30.7717757376588, w0=73.29392200210519, w1=13.479712434989048\n",
      "[gradient descent] (10/49): loss=30.7717757376588, w0=73.29392200210519, w1=13.479712434989048\n",
      "[gradient descent] (11/49): loss=30.7717757376588, w0=73.29392200210519, w1=13.479712434989048\n",
      "[gradient descent] (12/49): loss=30.7717757376588, w0=73.29392200210519, w1=13.479712434989048\n",
      "[gradient descent] (13/49): loss=30.7717757376588, w0=73.29392200210519, w1=13.479712434989048\n",
      "[gradient descent] (14/49): loss=30.7717757376588, w0=73.29392200210519, w1=13.479712434989048\n",
      "[gradient descent] (15/49): loss=30.7717757376588, w0=73.29392200210519, w1=13.479712434989048\n",
      "[gradient descent] (16/49): loss=30.7717757376588, w0=73.29392200210519, w1=13.479712434989048\n",
      "[gradient descent] (17/49): loss=30.7717757376588, w0=73.29392200210519, w1=13.479712434989048\n",
      "[gradient descent] (18/49): loss=30.7717757376588, w0=73.29392200210519, w1=13.479712434989048\n",
      "[gradient descent] (19/49): loss=30.7717757376588, w0=73.29392200210519, w1=13.479712434989048\n",
      "[gradient descent] (20/49): loss=30.7717757376588, w0=73.29392200210519, w1=13.479712434989048\n",
      "[gradient descent] (21/49): loss=30.7717757376588, w0=73.29392200210519, w1=13.479712434989048\n",
      "[gradient descent] (22/49): loss=30.7717757376588, w0=73.29392200210519, w1=13.479712434989048\n",
      "[gradient descent] (23/49): loss=30.7717757376588, w0=73.29392200210519, w1=13.479712434989048\n",
      "[gradient descent] (24/49): loss=30.7717757376588, w0=73.29392200210519, w1=13.479712434989048\n",
      "[gradient descent] (25/49): loss=30.7717757376588, w0=73.29392200210519, w1=13.479712434989048\n",
      "[gradient descent] (26/49): loss=30.7717757376588, w0=73.29392200210519, w1=13.479712434989048\n",
      "[gradient descent] (27/49): loss=30.7717757376588, w0=73.29392200210519, w1=13.479712434989048\n",
      "[gradient descent] (28/49): loss=30.7717757376588, w0=73.29392200210519, w1=13.479712434989048\n",
      "[gradient descent] (29/49): loss=30.7717757376588, w0=73.29392200210519, w1=13.479712434989048\n",
      "[gradient descent] (30/49): loss=30.7717757376588, w0=73.29392200210519, w1=13.479712434989048\n",
      "[gradient descent] (31/49): loss=30.7717757376588, w0=73.29392200210519, w1=13.479712434989048\n",
      "[gradient descent] (32/49): loss=30.7717757376588, w0=73.29392200210519, w1=13.479712434989048\n",
      "[gradient descent] (33/49): loss=30.7717757376588, w0=73.29392200210519, w1=13.479712434989048\n",
      "[gradient descent] (34/49): loss=30.7717757376588, w0=73.29392200210519, w1=13.479712434989048\n",
      "[gradient descent] (35/49): loss=30.7717757376588, w0=73.29392200210519, w1=13.479712434989048\n",
      "[gradient descent] (36/49): loss=30.7717757376588, w0=73.29392200210519, w1=13.479712434989048\n",
      "[gradient descent] (37/49): loss=30.7717757376588, w0=73.29392200210519, w1=13.479712434989048\n",
      "[gradient descent] (38/49): loss=30.7717757376588, w0=73.29392200210519, w1=13.479712434989048\n",
      "[gradient descent] (39/49): loss=30.7717757376588, w0=73.29392200210519, w1=13.479712434989048\n",
      "[gradient descent] (40/49): loss=30.7717757376588, w0=73.29392200210519, w1=13.479712434989048\n",
      "[gradient descent] (41/49): loss=30.7717757376588, w0=73.29392200210519, w1=13.479712434989048\n",
      "[gradient descent] (42/49): loss=30.7717757376588, w0=73.29392200210519, w1=13.479712434989048\n",
      "[gradient descent] (43/49): loss=30.7717757376588, w0=73.29392200210519, w1=13.479712434989048\n",
      "[gradient descent] (44/49): loss=30.7717757376588, w0=73.29392200210519, w1=13.479712434989048\n",
      "[gradient descent] (45/49): loss=30.7717757376588, w0=73.29392200210519, w1=13.479712434989048\n",
      "[gradient descent] (46/49): loss=30.7717757376588, w0=73.29392200210519, w1=13.479712434989048\n",
      "[gradient descent] (47/49): loss=30.7717757376588, w0=73.29392200210519, w1=13.479712434989048\n",
      "[gradient descent] (48/49): loss=30.7717757376588, w0=73.29392200210519, w1=13.479712434989048\n",
      "[gradient descent] (49/49): loss=30.7717757376588, w0=73.29392200210519, w1=13.479712434989048\n",
      "[grid search] Minimum Loss: 30.81465546416921 for w=(73.5, 13.5)\n"
     ]
    }
   ],
   "source": [
    "test_your_least_squares()"
   ]
  },
  {
   "cell_type": "markdown",
   "metadata": {},
   "source": [
    "## 1.2 Least squares with a linear basis function model\n",
    "Start from this section, we will use the dataset `dataEx3.csv`.\n",
    "\n",
    "### Implement polynomial basis functions"
   ]
  },
  {
   "cell_type": "code",
   "execution_count": 43,
   "metadata": {
    "scrolled": true
   },
   "outputs": [
    {
     "name": "stdout",
     "output_type": "stream",
     "text": [
      "shape of x (50,)\n",
      "shape of y (50,)\n"
     ]
    },
    {
     "data": {
      "text/plain": [
       "array([0.35237491, 4.8951233 , 1.86662437, 3.50706129, 3.38087384,\n",
       "       0.73093728, 3.88562366, 5.65224803, 6.28318531, 2.37137419,\n",
       "       0.60474982, 3.63324875, 0.85712473, 2.49756165, 1.61424946,\n",
       "       5.39987312, 6.15699785, 6.0308104 , 0.47856237, 2.87612401,\n",
       "       4.51656093, 0.98331219, 1.10949964, 0.1       , 2.11899928,\n",
       "       1.36187455, 4.01181111, 5.77843549, 4.26418602, 1.2356871 ,\n",
       "       2.24518674, 1.99281183, 1.48806201, 4.64274839, 4.39037348,\n",
       "       3.00231147, 0.22618746, 5.27368567, 5.02131076, 5.52606058,\n",
       "       2.6237491 , 4.76893584, 3.12849893, 1.74043692, 3.7594362 ,\n",
       "       3.25468638, 5.90462294, 4.13799857, 2.74993656, 5.14749821])"
      ]
     },
     "execution_count": 43,
     "metadata": {},
     "output_type": "execute_result"
    }
   ],
   "source": [
    "# load dataset\n",
    "x, y = load_data()\n",
    "print(\"shape of x {}\".format(x.shape))\n",
    "print(\"shape of y {}\".format(y.shape))\n",
    "x"
   ]
  },
  {
   "cell_type": "markdown",
   "metadata": {},
   "source": [
    "Let us play with polynomial regression. Note that we will use your implemented function `compute_mse`. Please copy and paste your implementation from exercise02."
   ]
  },
  {
   "cell_type": "code",
   "execution_count": 44,
   "metadata": {},
   "outputs": [
    {
     "name": "stdout",
     "output_type": "stream",
     "text": [
      "[4.8951233  1.86662437 3.50706129 3.38087384]\n",
      "[[1 1 1 1]\n",
      " [1 2 4 8]]\n"
     ]
    }
   ],
   "source": [
    "from plots import *\n",
    "print(x[1:5])\n",
    "print(build_poly([1,2], 3))\n"
   ]
  },
  {
   "cell_type": "code",
   "execution_count": 47,
   "metadata": {},
   "outputs": [],
   "source": [
    "from plots import *\n",
    "\n",
    "def polynomial_regression():\n",
    "    \"\"\"Constructing the polynomial basis function expansion of the data,\n",
    "       and then running least squares regression.\"\"\"\n",
    "    # define parameters\n",
    "    degrees = [1, 3, 7, 12]\n",
    "    \n",
    "    # define the structure of the figure\n",
    "    num_row = 2\n",
    "    num_col = 2\n",
    "    f, axs = plt.subplots(num_row, num_col)\n",
    "\n",
    "    for ind, degree in enumerate(degrees):\n",
    "        # ***************************************************\n",
    "        # INSERT YOUR CODE HERE\n",
    "        # form the data to do polynomial regression.: TODO\n",
    "        # ***************************************************\n",
    "        poly_data = build_poly(x, degree)\n",
    "        # ***************************************************\n",
    "        # INSERT YOUR CODE HERE\n",
    "        # least square and calculate RMSE: TODO\n",
    "        # ***************************************************\n",
    "        weights = least_squares(y, poly_data)\n",
    "        rmse = calculate_rmse(y, poly_data, weights)\n",
    "\n",
    "        print(rmse)\n",
    "        \n",
    "        print(\"Processing {i}th experiment, degree={d}, rmse={loss}\".format(\n",
    "              i=ind + 1, d=degree, loss=rmse))\n",
    "        # plot fit\n",
    "        plot_fitted_curve(\n",
    "            y, x, weights, degree, axs[ind // num_col][ind % num_col])\n",
    "        \n",
    "    plt.tight_layout()\n",
    "    plt.savefig(\"visualize_polynomial_regression\")\n",
    "    plt.show()"
   ]
  },
  {
   "cell_type": "markdown",
   "metadata": {},
   "source": [
    "Run polynomial regression"
   ]
  },
  {
   "cell_type": "code",
   "execution_count": 48,
   "metadata": {},
   "outputs": [
    {
     "name": "stdout",
     "output_type": "stream",
     "text": [
      "0.47187607963421874\n",
      "Processing 1th experiment, degree=1, rmse=0.47187607963421874\n",
      "0.25858277667737484\n",
      "Processing 2th experiment, degree=3, rmse=0.25858277667737484\n",
      "0.24965870360907327\n",
      "Processing 3th experiment, degree=7, rmse=0.24965870360907327\n",
      "0.24328247483727994\n",
      "Processing 4th experiment, degree=12, rmse=0.24328247483727994\n"
     ]
    },
    {
     "data": {
      "image/png": "[encoded data removed]",
      "text/plain": [
       "<Figure size 432x288 with 4 Axes>"
      ]
     },
     "metadata": {
      "needs_background": "light"
     },
     "output_type": "display_data"
    }
   ],
   "source": [
    "polynomial_regression()"
   ]
  },
  {
   "cell_type": "markdown",
   "metadata": {},
   "source": [
    "# 2 Evaluating model predication performance\n",
    "\n",
    "\n",
    "Let us show the train and test splits for various polynomial degrees. First of all, please fill in the function `split_data()`"
   ]
  },
  {
   "cell_type": "code",
   "execution_count": 63,
   "metadata": {},
   "outputs": [
    {
     "name": "stdout",
     "output_type": "stream",
     "text": [
      "(5,)\n",
      "(45,)\n",
      "(5,)\n",
      "(45,)\n"
     ]
    }
   ],
   "source": [
    "def split_data(x, y, ratio, seed=1):\n",
    "    \"\"\"\n",
    "    split the dataset based on the split ratio. If ratio is 0.8 \n",
    "    you will have 80% of your data set dedicated to training \n",
    "    and the rest dedicated to testing\n",
    "    \"\"\"\n",
    "    # set seed\n",
    "    np.random.seed(seed)\n",
    "    # ***************************************************\n",
    "    # INSERT YOUR CODE HERE\n",
    "    # split the data based on the given ratio: TODO\n",
    "    # ***************************************************\n",
    "    assert(x.shape[0] == y.shape[0])\n",
    "    rindex = np.random.permutation(range(x.shape[0]))\n",
    "    cutoff = int(len(rindex) * ratio)\n",
    "    return (x.take(rindex)[0:cutoff], x.take(rindex)[cutoff:], \n",
    "            y.take(rindex)[0:cutoff], y.take(rindex)[cutoff:])\n",
    "\n",
    "x_tr, x_te, y_tr, y_te = split_data(x, y, 0.1, 1)\n",
    "print(x_tr.shape)\n",
    "print(x_te.shape)\n",
    "print(y_tr.shape)\n",
    "print(y_te.shape)"
   ]
  },
  {
   "cell_type": "markdown",
   "metadata": {},
   "source": [
    "Then, test your `split_data` function below."
   ]
  },
  {
   "cell_type": "code",
   "execution_count": 61,
   "metadata": {},
   "outputs": [],
   "source": [
    "def train_test_split_demo(x, y, degree, ratio, seed):\n",
    "    \"\"\"polynomial regression with different split ratios and different degrees.\"\"\"\n",
    "    # Splitting the data into training and test sets\n",
    "    x_tr, x_te, y_tr, y_te = split_data(x, y, ratio, seed)\n",
    "\n",
    "    # Feature expansion for training and test sets of input dat\n",
    "    x_tr, x_te = [build_poly(x_tr, degree), build_poly(x_te, degree)]\n",
    "                              \n",
    "\n",
    "    # Calculating the optioal weights for the training data\n",
    "    w_tr = least_squares(y_tr, x_tr)\n",
    "    \n",
    "    # Calculating loss (rmse) for training and test data with training weights\n",
    "    rmse_tr = calculate_rmse(y_tr, x_tr, w_tr)\n",
    "    rmse_te = calculate_rmse(y_te, x_te, w_tr)\n",
    "    \n",
    "    print(\"proportion={p}, degree={d}, Training RMSE={tr:.3f}, Testing RMSE={te:.3f}\".format(\n",
    "          p=ratio, d=degree, tr=rmse_tr, te=rmse_te))\n"
   ]
  },
  {
   "cell_type": "code",
   "execution_count": 64,
   "metadata": {},
   "outputs": [
    {
     "name": "stdout",
     "output_type": "stream",
     "text": [
      "proportion=0.9, degree=1, Training RMSE=0.494, Testing RMSE=0.181\n",
      "proportion=0.9, degree=3, Training RMSE=0.264, Testing RMSE=0.206\n",
      "proportion=0.9, degree=7, Training RMSE=0.254, Testing RMSE=0.220\n",
      "proportion=0.9, degree=12, Training RMSE=0.242, Testing RMSE=0.250\n",
      "proportion=0.5, degree=1, Training RMSE=0.455, Testing RMSE=0.531\n",
      "proportion=0.5, degree=3, Training RMSE=0.239, Testing RMSE=0.296\n",
      "proportion=0.5, degree=7, Training RMSE=0.232, Testing RMSE=0.284\n",
      "proportion=0.5, degree=12, Training RMSE=0.205, Testing RMSE=1.548\n",
      "proportion=0.1, degree=1, Training RMSE=0.428, Testing RMSE=0.534\n",
      "proportion=0.1, degree=3, Training RMSE=0.085, Testing RMSE=0.460\n",
      "proportion=0.1, degree=7, Training RMSE=0.000, Testing RMSE=2.259\n",
      "proportion=0.1, degree=12, Training RMSE=0.000, Testing RMSE=4.637\n"
     ]
    }
   ],
   "source": [
    "seed = 6\n",
    "degrees = [1, 3, 7, 12]\n",
    "split_ratios = [0.9, 0.5, 0.1]\n",
    "\n",
    "for split_ratio in split_ratios:\n",
    "    for degree in degrees:\n",
    "        train_test_split_demo(x, y, degree, split_ratio, seed)"
   ]
  },
  {
   "cell_type": "markdown",
   "metadata": {},
   "source": [
    "# 3 Ridge Regression\n",
    "Please fill in the function below."
   ]
  },
  {
   "cell_type": "code",
   "execution_count": 87,
   "metadata": {},
   "outputs": [],
   "source": [
    "def ridge_regression(y, tx, lambda_):\n",
    "    \"\"\"implement ridge regression.\"\"\"\n",
    "    # ***************************************************\n",
    "    # INSERT YOUR CODE HERE\n",
    "    # ridge regression: TODO\n",
    "    # ***************************************************\n",
    "    a  = tx.T @ tx\n",
    "    aI = 2 * len(y) * lambda_ * np.identity(tx.shape[1])\n",
    "    b  = tx.T @ y\n",
    "    return np.linalg.solve(a + aI, b)"
   ]
  },
  {
   "cell_type": "code",
   "execution_count": 88,
   "metadata": {},
   "outputs": [],
   "source": [
    "def ridge_regression_demo(x, y, degree, ratio, seed):\n",
    "    \"\"\"ridge regression demo.\"\"\"\n",
    "    # define parameter\n",
    "    lambdas = np.logspace(-5, 0, 15)\n",
    "    \n",
    "    # Splitting the data into training and test sets\n",
    "    x_tr, x_te, y_tr, y_te = split_data(x, y, ratio, seed)\n",
    "    \n",
    "    # Feature expansion for training and test sets of input dat\n",
    "    x_tr, x_te = [build_poly(x_tr, degree), build_poly(x_te, degree)]\n",
    "\n",
    "    rmse_tr = []\n",
    "    rmse_te = []\n",
    "    \n",
    "    for ind, lambda_ in enumerate(lambdas):\n",
    "        # Calculating the optioal weights for the training data for ridge regression\n",
    "        w_tr = ridge_regression(y_tr, x_tr, lambda_)\n",
    "\n",
    "        # Calculating loss (rmse) for training and test data with training weights\n",
    "        rmse_tr.append(calculate_rmse(y_tr, x_tr, w_tr))\n",
    "        rmse_te.append(calculate_rmse(y_te, x_te, w_tr))\n",
    "        \n",
    "        print(\"proportion={p}, degree={d}, lambda={l:.3f}, Training RMSE={tr:.3f}, Testing RMSE={te:.3f}\".format(\n",
    "               p=ratio, d=degree, l=lambda_, tr=rmse_tr[ind], te=rmse_te[ind]))\n",
    "        \n",
    "    # Plot the obtained results\n",
    "    plot_train_test(rmse_tr, rmse_te, lambdas, degree)\n"
   ]
  },
  {
   "cell_type": "code",
   "execution_count": 89,
   "metadata": {},
   "outputs": [
    {
     "name": "stdout",
     "output_type": "stream",
     "text": [
      "proportion=0.5, degree=7, Training RMSE=0.227, Testing RMSE=0.339\n",
      "proportion=0.5, degree=7, lambda=0.000, Training RMSE=0.227, Testing RMSE=0.338\n",
      "proportion=0.5, degree=7, lambda=0.000, Training RMSE=0.227, Testing RMSE=0.337\n",
      "proportion=0.5, degree=7, lambda=0.000, Training RMSE=0.227, Testing RMSE=0.336\n",
      "proportion=0.5, degree=7, lambda=0.000, Training RMSE=0.227, Testing RMSE=0.335\n",
      "proportion=0.5, degree=7, lambda=0.000, Training RMSE=0.228, Testing RMSE=0.334\n",
      "proportion=0.5, degree=7, lambda=0.001, Training RMSE=0.228, Testing RMSE=0.333\n",
      "proportion=0.5, degree=7, lambda=0.001, Training RMSE=0.229, Testing RMSE=0.329\n",
      "proportion=0.5, degree=7, lambda=0.003, Training RMSE=0.230, Testing RMSE=0.319\n",
      "proportion=0.5, degree=7, lambda=0.007, Training RMSE=0.232, Testing RMSE=0.302\n",
      "proportion=0.5, degree=7, lambda=0.016, Training RMSE=0.237, Testing RMSE=0.283\n",
      "proportion=0.5, degree=7, lambda=0.037, Training RMSE=0.246, Testing RMSE=0.276\n",
      "proportion=0.5, degree=7, lambda=0.085, Training RMSE=0.264, Testing RMSE=0.298\n",
      "proportion=0.5, degree=7, lambda=0.193, Training RMSE=0.291, Testing RMSE=0.348\n",
      "proportion=0.5, degree=7, lambda=0.439, Training RMSE=0.317, Testing RMSE=0.401\n",
      "proportion=0.5, degree=7, lambda=1.000, Training RMSE=0.336, Testing RMSE=0.441\n"
     ]
    },
    {
     "data": {
      "image/png": "[encoded data removed]",
      "text/plain": [
       "<Figure size 432x288 with 1 Axes>"
      ]
     },
     "metadata": {
      "needs_background": "light"
     },
     "output_type": "display_data"
    }
   ],
   "source": [
    "seed = 56\n",
    "degree = 7\n",
    "split_ratio = 0.5\n",
    "train_test_split_demo(x, y, degree, split_ratio, seed)\n",
    "ridge_regression_demo(x, y, degree, split_ratio, seed)"
   ]
  },
  {
   "cell_type": "code",
   "execution_count": null,
   "metadata": {},
   "outputs": [],
   "source": []
  }
 ],
 "metadata": {
  "anaconda-cloud": {},
  "kernelspec": {
   "display_name": "Python 3",
   "language": "python",
   "name": "python3"
  },
  "language_info": {
   "codemirror_mode": {
    "name": "ipython",
    "version": 3
   },
   "file_extension": ".py",
   "mimetype": "text/x-python",
   "name": "python",
   "nbconvert_exporter": "python",
   "pygments_lexer": "ipython3",
   "version": "3.7.3"
  }
 },
 "nbformat": 4,
 "nbformat_minor": 1
}
